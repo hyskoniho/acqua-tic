{
 "cells": [
  {
   "cell_type": "markdown",
   "metadata": {},
   "source": [
    "# Starter settings"
   ]
  },
  {
   "cell_type": "code",
   "execution_count": 1,
   "metadata": {},
   "outputs": [
    {
     "data": {
      "text/plain": [
       "True"
      ]
     },
     "execution_count": 1,
     "metadata": {},
     "output_type": "execute_result"
    }
   ],
   "source": [
    "import base64, os, time\n",
    "from pymongo.mongo_client import MongoClient\n",
    "from bson import Binary\n",
    "from dotenv import load_dotenv\n",
    "load_dotenv()"
   ]
  },
  {
   "cell_type": "markdown",
   "metadata": {},
   "source": [
    "# Data & Connection"
   ]
  },
  {
   "cell_type": "code",
   "execution_count": null,
   "metadata": {},
   "outputs": [],
   "source": [
    "raw_control_data: dict = {\n",
    "    \"id\": 0, # int - ID\n",
    "    \"image\": \"\", # str - binary content of the image xD\n",
    "    \"temp\": 0.0, # float - temperature in celsius\n",
    "    \"lux\": 0, # int - luminosity in percentage 0-100\n",
    "    \"lamp\": False, # bool - lamp status\n",
    "    \"heat\": False, # bool - heater status\n",
    "    \"command\": \"\" # str - command to be executed in the device (esp32)\n",
    "}"
   ]
  },
  {
   "cell_type": "code",
   "execution_count": 2,
   "metadata": {},
   "outputs": [],
   "source": [
    "client = MongoClient(os.getenv(\"uri\"))\n",
    "database = client[\"acqua-tic\"]\n",
    "collection = database[\"control\"]"
   ]
  },
  {
   "cell_type": "code",
   "execution_count": 3,
   "metadata": {},
   "outputs": [
    {
     "data": {
      "text/plain": [
       "1"
      ]
     },
     "execution_count": 3,
     "metadata": {},
     "output_type": "execute_result"
    }
   ],
   "source": [
    "# TEST\n",
    "collection.count_documents({})"
   ]
  },
  {
   "cell_type": "markdown",
   "metadata": {},
   "source": [
    "# Functions"
   ]
  },
  {
   "cell_type": "code",
   "execution_count": 4,
   "metadata": {},
   "outputs": [],
   "source": [
    "def image_to_base64_string(image_path: str) -> str:\n",
    "    with open(image_path, \"rb\") as image_file:\n",
    "        encoded_string = base64.b64encode(image_file.read()).decode('utf-8')\n",
    "    return encoded_string"
   ]
  },
  {
   "cell_type": "code",
   "execution_count": 5,
   "metadata": {},
   "outputs": [],
   "source": [
    "def image_to_binary_object(image_path: str) -> Binary:\n",
    "    with open(image_path, \"rb\") as image_file:\n",
    "        image_data = image_file.read()\n",
    "    return Binary(image_data)"
   ]
  },
  {
   "cell_type": "markdown",
   "metadata": {},
   "source": [
    "# Commands"
   ]
  },
  {
   "cell_type": "markdown",
   "metadata": {},
   "source": [
    "### Insert\n",
    "Insert the control data on collection"
   ]
  },
  {
   "cell_type": "code",
   "execution_count": 15,
   "metadata": {},
   "outputs": [
    {
     "data": {
      "text/plain": [
       "InsertOneResult(ObjectId('6786601d385ff038715214d8'), acknowledged=True)"
      ]
     },
     "execution_count": 15,
     "metadata": {},
     "output_type": "execute_result"
    }
   ],
   "source": [
    "collection.insert_one(raw_control_data)"
   ]
  },
  {
   "cell_type": "markdown",
   "metadata": {},
   "source": [
    "### Update Image 1\n",
    "Update image content to string value from something."
   ]
  },
  {
   "cell_type": "code",
   "execution_count": 9,
   "metadata": {},
   "outputs": [
    {
     "name": "stderr",
     "output_type": "stream",
     "text": [
      "<>:1: SyntaxWarning: invalid escape sequence '\\s'\n",
      "<>:1: SyntaxWarning: invalid escape sequence '\\s'\n",
      "C:\\Users\\Arklok\\AppData\\Local\\Temp\\ipykernel_25248\\1496208239.py:1: SyntaxWarning: invalid escape sequence '\\s'\n",
      "  collection.update_one({\"id\":0}, {\"$set\": {\"image\": image_to_base64_string(\".\\sample.png\")}})\n"
     ]
    },
    {
     "data": {
      "text/plain": [
       "UpdateResult({'n': 1, 'electionId': ObjectId('7fffffff000000000000001a'), 'opTime': {'ts': Timestamp(1737074730, 4), 't': 26}, 'nModified': 1, 'ok': 1.0, '$clusterTime': {'clusterTime': Timestamp(1737074730, 4), 'signature': {'hash': b'F\\x89\\xef.\\xd1\\xfc^\\xfe\\x07\\xc1m\\xc7x\\xf5\\xbda\"Z\\xae1', 'keyId': 7413777146818068482}}, 'operationTime': Timestamp(1737074730, 4), 'updatedExisting': True}, acknowledged=True)"
      ]
     },
     "execution_count": 9,
     "metadata": {},
     "output_type": "execute_result"
    }
   ],
   "source": [
    "collection.update_one({\"id\":0}, {\"$set\": {\"image\": image_to_base64_string(r\".\\sample.png\")}})"
   ]
  },
  {
   "cell_type": "markdown",
   "metadata": {},
   "source": [
    "### Update Image 2\n",
    "Loop to constantly update the images between one an another to test receptivity"
   ]
  },
  {
   "cell_type": "code",
   "execution_count": null,
   "metadata": {},
   "outputs": [
    {
     "name": "stderr",
     "output_type": "stream",
     "text": [
      "<>:2: SyntaxWarning: invalid escape sequence '\\s'\n",
      "<>:2: SyntaxWarning: invalid escape sequence '\\s'\n",
      "C:\\Users\\Arklok\\AppData\\Local\\Temp\\ipykernel_25248\\2500611112.py:2: SyntaxWarning: invalid escape sequence '\\s'\n",
      "  collection.update_one({\"id\":0}, {\"$set\": {\"image\": image_to_base64_string(\".\\sample.png\")}})\n"
     ]
    }
   ],
   "source": [
    "for _ in range(100):\n",
    "    collection.update_one({\"id\":0}, {\"$set\": {\"image\": image_to_base64_string(r\".\\sample.png\")}})\n",
    "    time.sleep(1.5)\n",
    "    collection.update_one({\"id\":0}, {\"$set\": {\"image\": image_to_base64_string(r\"\")}})\n",
    "    time.sleep(1.5)\n",
    "    collection.update_one({\"id\":0}, {\"$set\": {\"image\": image_to_base64_string(r\"\")}})\n",
    "    time.sleep(1.5)"
   ]
  }
 ],
 "metadata": {
  "kernelspec": {
   "display_name": ".venv",
   "language": "python",
   "name": "python3"
  },
  "language_info": {
   "codemirror_mode": {
    "name": "ipython",
    "version": 3
   },
   "file_extension": ".py",
   "mimetype": "text/x-python",
   "name": "python",
   "nbconvert_exporter": "python",
   "pygments_lexer": "ipython3",
   "version": "3.12.4"
  }
 },
 "nbformat": 4,
 "nbformat_minor": 2
}
